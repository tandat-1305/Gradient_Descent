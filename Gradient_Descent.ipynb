{
  "nbformat": 4,
  "nbformat_minor": 0,
  "metadata": {
    "colab": {
      "name": "Gradient_Descent.ipynb",
      "provenance": [],
      "collapsed_sections": [],
      "include_colab_link": true
    },
    "kernelspec": {
      "name": "python3",
      "display_name": "Python 3"
    },
    "language_info": {
      "name": "python"
    }
  },
  "cells": [
    {
      "cell_type": "markdown",
      "metadata": {
        "id": "view-in-github",
        "colab_type": "text"
      },
      "source": [
        "<a href=\"https://colab.research.google.com/github/tandat-1305/Gradient_Descent/blob/main/Gradient_Descent.ipynb\" target=\"_parent\"><img src=\"https://colab.research.google.com/assets/colab-badge.svg\" alt=\"Open In Colab\"/></a>"
      ]
    },
    {
      "cell_type": "code",
      "execution_count": 1,
      "metadata": {
        "id": "XGAui9P9AL0q"
      },
      "outputs": [],
      "source": [
        "import numpy as np\n",
        "import matplotlib.pyplot as plt\n",
        "import random"
      ]
    },
    {
      "cell_type": "code",
      "source": [
        "def mean_squared_error(y_true, y_predicted):    \n",
        "    #Tính hàm loss và coss \n",
        "    cost = np.sum((y_true-y_predicted)**2) / len(y_true)\n",
        "    return cost"
      ],
      "metadata": {
        "id": "vEhf_ggXh1Tf"
      },
      "execution_count": 6,
      "outputs": []
    },
    {
      "cell_type": "code",
      "source": [
        "# Hàm Gradient Descent\n",
        "# Tạo iterations, learning_rate, stopping_threshold\n",
        "# Các siêu tham số có thể được điều chỉnh\n",
        "def gradient_descent(x, y, iterations = 1000, learning_rate = 0.0001, \n",
        "                     stopping_threshold = 1e-6):\n",
        "      \n",
        "    # Khởi tạo weight, bias, learning rate and iterations\n",
        "    current_weight = 0.1 #trọng số\n",
        "    current_bias = 0.01 #độ lệch\n",
        "    iterations = iterations #số lần lặp\n",
        "    learning_rate = learning_rate\n",
        "    n = float(len(x))\n",
        "      \n",
        "    costs = []\n",
        "    weights = []\n",
        "    previous_cost = None\n",
        "      \n",
        "    #Ước tính các tham số tối ưu\n",
        "    for i in range(iterations):\n",
        "          \n",
        "        # Đưa ra dự án\n",
        "        y_predicted = (current_weight * x) + current_bias\n",
        "          \n",
        "        # Tính toán cost hiện tại\n",
        "        current_cost = mean_squared_error(y, y_predicted)\n",
        "  \n",
        "        # Nếu cost thay đổi nhỏ hơn hoặc bằng stoping_threshood thì sẽ dừng giảm tốc độ\n",
        "        if previous_cost and abs(previous_cost-current_cost)<=stopping_threshold:\n",
        "            break\n",
        "        #chuyển cost hiện tại thành cost trước  \n",
        "        previous_cost = current_cost \n",
        "  \n",
        "        costs.append(current_cost)\n",
        "        weights.append(current_weight)\n",
        "          \n",
        "        # Tính gradients  \n",
        "        weight_derivative = -(2/n) * sum(x * (y-y_predicted))\n",
        "        bias_derivative = -(2/n) * sum(y-y_predicted)\n",
        "          \n",
        "        # Cập nhật weights and bias\n",
        "        current_weight = current_weight - (learning_rate * weight_derivative)\n",
        "        current_bias = current_bias - (learning_rate * bias_derivative)\n",
        "                  \n",
        "        #In ra mỗi kết quả sau mỗi lần lặp thứ 1000 \n",
        "        print(f\"Iteration {i+1}: Cost {current_cost}, Weight \\\n",
        "        {current_weight}, Bias {current_bias}\")\n",
        "    # Biểu diễn weights and cost sau mỗi lần lặp\n",
        "    plt.figure(figsize = (8,6))\n",
        "    plt.plot(weights, costs)\n",
        "    plt.scatter(weights, costs, marker='o', color='red')\n",
        "    plt.title(\"Cost vs Weights\")\n",
        "    plt.ylabel(\"Cost\")\n",
        "    plt.xlabel(\"Weight\")\n",
        "    plt.show()\n",
        "      \n",
        "    return current_weight, current_bias"
      ],
      "metadata": {
        "id": "hzIXvf-2AdNi"
      },
      "execution_count": 23,
      "outputs": []
    },
    {
      "cell_type": "code",
      "source": [
        "def main():\n",
        "    #Nhập dữ liệu \n",
        "    X = np.array([32.50234527, 53.42680403, 61.53035803, 47.47563963, 59.81320787,\n",
        "           55.14218841, 52.21179669, 39.29956669, 48.10504169, 52.55001444,\n",
        "           45.41973014, 54.35163488, 44.1640495 , 58.16847072, 56.72720806,\n",
        "           48.95588857, 44.68719623, 60.29732685, 45.61864377, 38.81681754])\n",
        "    Y = np.array([31.70700585, 68.77759598, 62.5623823 , 71.54663223, 87.23092513,\n",
        "           78.21151827, 79.64197305, 59.17148932, 75.3312423 , 71.30087989,\n",
        "           55.16567715, 82.47884676, 62.00892325, 75.39287043, 81.43619216,\n",
        "           60.72360244, 82.89250373, 97.37989686, 48.84715332, 56.87721319])\n",
        "     # Ước tính weight and bias sử dụng gradient descent\n",
        "    estimated_weight, eatimated_bias = gradient_descent(X, Y, iterations=2000)\n",
        "    print(f\"Estimated Weight: {estimated_weight}\\nEstimated Bias: {eatimated_bias}\")\n",
        "  \n",
        "    # Đưa ra dự đoán bằng cách sử dụng các thông số ước tính\n",
        "    Y_pred = estimated_weight*X + eatimated_bias\n",
        "  \n",
        "    # Vẽ đường hồi quy\n",
        "    plt.figure(figsize = (8,6))\n",
        "    plt.scatter(X, Y, marker='o', color='red')\n",
        "    plt.plot([min(X), max(X)], [min(Y_pred), max(Y_pred)], color='blue',markerfacecolor='red',\n",
        "             markersize=10,linestyle='dashed')\n",
        "    plt.xlabel(\"X\")\n",
        "    plt.ylabel(\"Y\")\n",
        "    plt.show()\n",
        "  \n",
        "      \n",
        "if __name__==\"__main__\":\n",
        "    main()"
      ],
      "metadata": {
        "colab": {
          "base_uri": "https://localhost:8080/",
          "height": 1000
        },
        "id": "pP-qEa5lVA9_",
        "outputId": "5f017fc8-fb35-4727-a987-0d3e74eb6e4f"
      },
      "execution_count": 24,
      "outputs": [
        {
          "output_type": "stream",
          "name": "stdout",
          "text": [
            "Iteration 1: Cost 4352.088931274409, Weight         0.7593291142562117, Bias 0.02288558130709\n",
            "Iteration 2: Cost 1114.8561474350017, Weight         1.081602958862324, Bias 0.02918014748569513\n",
            "Iteration 3: Cost 341.42912086804455, Weight         1.2391274084945083, Bias 0.03225308846928192\n",
            "Iteration 4: Cost 156.64495290904443, Weight         1.3161239281746984, Bias 0.03375132986012604\n",
            "Iteration 5: Cost 112.49704004742098, Weight         1.3537591652024805, Bias 0.034479873154934775\n",
            "Iteration 6: Cost 101.9493925395456, Weight         1.3721549833978113, Bias 0.034832195392868505\n",
            "Iteration 7: Cost 99.4293893333546, Weight         1.3811467575154601, Bias 0.03500062439068245\n",
            "Iteration 8: Cost 98.82731958262897, Weight         1.3855419247507244, Bias 0.03507916814736111\n",
            "Iteration 9: Cost 98.68347500997261, Weight         1.3876903144657764, Bias 0.035113776874486774\n",
            "Iteration 10: Cost 98.64910780902792, Weight         1.3887405007983562, Bias 0.035126910596389935\n",
            "Iteration 11: Cost 98.64089651459352, Weight         1.389253895811451, Bias 0.03512954755833985\n",
            "Iteration 12: Cost 98.63893428729509, Weight         1.38950491235671, Bias 0.035127053821718185\n",
            "Iteration 13: Cost 98.63846506273883, Weight         1.3896276808137857, Bias 0.035122052266051224\n",
            "Iteration 14: Cost 98.63835254057648, Weight         1.38968776283053, Bias 0.03511582492978764\n",
            "Iteration 15: Cost 98.63832524036214, Weight         1.3897172043139192, Bias 0.03510899846107016\n",
            "Iteration 16: Cost 98.63831830104695, Weight         1.389731668997059, Bias 0.035101879159522745\n",
            "Iteration 17: Cost 98.63831622628217, Weight         1.389738813163012, Bias 0.03509461674147458\n"
          ]
        },
        {
          "output_type": "display_data",
          "data": {
            "image/png": "[encoded data removed]",
            "text/plain": [
              "<Figure size 576x432 with 1 Axes>"
            ]
          },
          "metadata": {
            "needs_background": "light"
          }
        },
        {
          "output_type": "stream",
          "name": "stdout",
          "text": [
            "Estimated Weight: 1.389738813163012\n",
            "Estimated Bias: 0.03509461674147458\n"
          ]
        },
        {
          "output_type": "display_data",
          "data": {
            "image/png": "[encoded data removed]",
            "text/plain": [
              "<Figure size 576x432 with 1 Axes>"
            ]
          },
          "metadata": {
            "needs_background": "light"
          }
        }
      ]
    },
    {
      "cell_type": "code",
      "source": [
        "random.sample(range(100),20)"
      ],
      "metadata": {
        "colab": {
          "base_uri": "https://localhost:8080/"
        },
        "id": "aAvOjw1He6J9",
        "outputId": "cba1bde4-951b-49b8-e115-59ee7488f765"
      },
      "execution_count": 4,
      "outputs": [
        {
          "output_type": "execute_result",
          "data": {
            "text/plain": [
              "[50, 53, 95, 19, 0, 89, 26, 87, 66, 92, 55, 78, 42, 58, 25, 7, 45, 61, 52, 14]"
            ]
          },
          "metadata": {},
          "execution_count": 4
        }
      ]
    }
  ]
}